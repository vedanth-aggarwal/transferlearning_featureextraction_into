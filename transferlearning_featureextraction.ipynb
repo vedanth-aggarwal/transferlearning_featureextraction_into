{
  "nbformat": 4,
  "nbformat_minor": 0,
  "metadata": {
    "colab": {
      "provenance": [],
      "gpuType": "T4",
      "authorship_tag": "ABX9TyM9IQDrocWGyhqgeI8IHXiq",
      "include_colab_link": true
    },
    "kernelspec": {
      "name": "python3",
      "display_name": "Python 3"
    },
    "language_info": {
      "name": "python"
    },
    "accelerator": "GPU"
  },
  "cells": [
    {
      "cell_type": "markdown",
      "metadata": {
        "id": "view-in-github",
        "colab_type": "text"
      },
      "source": [
        "<a href=\"https://colab.research.google.com/github/vedanth-aggarwal/transferlearning_featureextraction_into/blob/main/transferlearning_featureextraction.ipynb\" target=\"_parent\"><img src=\"https://colab.research.google.com/assets/colab-badge.svg\" alt=\"Open In Colab\"/></a>"
      ]
    },
    {
      "cell_type": "code",
      "execution_count": null,
      "metadata": {
        "id": "5SNhUwhsKTD0"
      },
      "outputs": [],
      "source": [
        "\"\"\" Leveraging a working model's existing architecture and learned patterns for benefit\"\n",
        "# - Leverage existing neural network proven to work\n",
        "# - Adapt patters to our own data"
      ]
    },
    {
      "cell_type": "code",
      "source": [
        "!nvidia-smi"
      ],
      "metadata": {
        "colab": {
          "base_uri": "https://localhost:8080/"
        },
        "id": "cx4Z0YCmKsyk",
        "outputId": "2eacb4b3-4fd7-49c8-f12b-79a7233c2340"
      },
      "execution_count": null,
      "outputs": [
        {
          "output_type": "stream",
          "name": "stdout",
          "text": [
            "Mon Apr 29 04:44:30 2024       \n",
            "+---------------------------------------------------------------------------------------+\n",
            "| NVIDIA-SMI 535.104.05             Driver Version: 535.104.05   CUDA Version: 12.2     |\n",
            "|-----------------------------------------+----------------------+----------------------+\n",
            "| GPU  Name                 Persistence-M | Bus-Id        Disp.A | Volatile Uncorr. ECC |\n",
            "| Fan  Temp   Perf          Pwr:Usage/Cap |         Memory-Usage | GPU-Util  Compute M. |\n",
            "|                                         |                      |               MIG M. |\n",
            "|=========================================+======================+======================|\n",
            "|   0  Tesla T4                       Off | 00000000:00:04.0 Off |                    0 |\n",
            "| N/A   60C    P8              10W /  70W |      0MiB / 15360MiB |      0%      Default |\n",
            "|                                         |                      |                  N/A |\n",
            "+-----------------------------------------+----------------------+----------------------+\n",
            "                                                                                         \n",
            "+---------------------------------------------------------------------------------------+\n",
            "| Processes:                                                                            |\n",
            "|  GPU   GI   CI        PID   Type   Process name                            GPU Memory |\n",
            "|        ID   ID                                                             Usage      |\n",
            "|=======================================================================================|\n",
            "|  No running processes found                                                           |\n",
            "+---------------------------------------------------------------------------------------+\n"
          ]
        }
      ]
    },
    {
      "cell_type": "code",
      "source": [
        "# 10% of food classes from food101\n",
        "import zipfile\n",
        "\n",
        "!wget https://storage.googleapis.com/ztm_tf_course/food_vision/10_food_classes_10_percent.zip\n",
        "\n",
        "zip_ref = zipfile.ZipFile('10_food_classes_10_percent.zip')\n",
        "zip_ref.extractall()\n",
        "zip_ref.close()"
      ],
      "metadata": {
        "colab": {
          "base_uri": "https://localhost:8080/"
        },
        "id": "wF6l6P75Ks1D",
        "outputId": "34643a95-1f65-4ae4-b132-da7a20536885"
      },
      "execution_count": null,
      "outputs": [
        {
          "output_type": "stream",
          "name": "stdout",
          "text": [
            "--2024-04-30 04:42:03--  https://storage.googleapis.com/ztm_tf_course/food_vision/10_food_classes_10_percent.zip\n",
            "Resolving storage.googleapis.com (storage.googleapis.com)... 108.177.112.207, 74.125.124.207, 142.250.152.207, ...\n",
            "Connecting to storage.googleapis.com (storage.googleapis.com)|108.177.112.207|:443... connected.\n",
            "HTTP request sent, awaiting response... 200 OK\n",
            "Length: 168546183 (161M) [application/zip]\n",
            "Saving to: ‘10_food_classes_10_percent.zip’\n",
            "\n",
            "10_food_classes_10_ 100%[===================>] 160.74M   174MB/s    in 0.9s    \n",
            "\n",
            "2024-04-30 04:42:04 (174 MB/s) - ‘10_food_classes_10_percent.zip’ saved [168546183/168546183]\n",
            "\n"
          ]
        }
      ]
    },
    {
      "cell_type": "code",
      "source": [
        "import os\n",
        "\n",
        "for dirpath, dirnames,filenames in os.walk('10_food_classes_10_percent'):\n",
        "  print(len(dirnames),len(filenames),dirpath)"
      ],
      "metadata": {
        "colab": {
          "base_uri": "https://localhost:8080/"
        },
        "id": "mznGvQvMKs3S",
        "outputId": "41dfeac2-aa5d-4a2e-fbb3-1e62b115424e"
      },
      "execution_count": null,
      "outputs": [
        {
          "output_type": "stream",
          "name": "stdout",
          "text": [
            "2 0 10_food_classes_10_percent\n",
            "10 0 10_food_classes_10_percent/test\n",
            "0 250 10_food_classes_10_percent/test/ice_cream\n",
            "0 250 10_food_classes_10_percent/test/grilled_salmon\n",
            "0 250 10_food_classes_10_percent/test/ramen\n",
            "0 250 10_food_classes_10_percent/test/chicken_curry\n",
            "0 250 10_food_classes_10_percent/test/chicken_wings\n",
            "0 250 10_food_classes_10_percent/test/steak\n",
            "0 250 10_food_classes_10_percent/test/pizza\n",
            "0 250 10_food_classes_10_percent/test/sushi\n",
            "0 250 10_food_classes_10_percent/test/hamburger\n",
            "0 250 10_food_classes_10_percent/test/fried_rice\n",
            "10 0 10_food_classes_10_percent/train\n",
            "0 75 10_food_classes_10_percent/train/ice_cream\n",
            "0 75 10_food_classes_10_percent/train/grilled_salmon\n",
            "0 75 10_food_classes_10_percent/train/ramen\n",
            "0 75 10_food_classes_10_percent/train/chicken_curry\n",
            "0 75 10_food_classes_10_percent/train/chicken_wings\n",
            "0 75 10_food_classes_10_percent/train/steak\n",
            "0 75 10_food_classes_10_percent/train/pizza\n",
            "0 75 10_food_classes_10_percent/train/sushi\n",
            "0 75 10_food_classes_10_percent/train/hamburger\n",
            "0 75 10_food_classes_10_percent/train/fried_rice\n"
          ]
        }
      ]
    },
    {
      "cell_type": "code",
      "source": [
        "import tensorflow as tf\n",
        "from tensorflow.keras.preprocessing.image import ImageDataGenerator\n",
        "\n",
        "tf.random.set_seed(42)\n",
        "\n",
        "train_datagen = ImageDataGenerator(rescale=1./255)\n",
        "test_datagen = ImageDataGenerator(rescale=1./255)\n",
        "\n",
        "train_dir = '10_food_classes_10_percent/train'\n",
        "test_dir = '10_food_classes_10_percent/test'\n",
        "\n",
        "train_data10 = train_datagen.flow_from_directory(train_dir,batch_size=32,target_size=(224,224),\n",
        "                                               class_mode = 'categorical',seed=42)\n",
        "test_data10 = test_datagen.flow_from_directory(test_dir,batch_size=32,target_size=(224,224),\n",
        "                                               class_mode = 'categorical',seed=42)\n",
        "\n",
        "\n",
        "# Build a CNN ( Tiny VGG CNN Explainer website)"
      ],
      "metadata": {
        "colab": {
          "base_uri": "https://localhost:8080/"
        },
        "id": "FH_nU5QrKs53",
        "outputId": "0ff98e5e-8900-4912-d1b4-2a9486c84942"
      },
      "execution_count": null,
      "outputs": [
        {
          "output_type": "stream",
          "name": "stdout",
          "text": [
            "Found 750 images belonging to 10 classes.\n",
            "Found 2500 images belonging to 10 classes.\n"
          ]
        }
      ]
    },
    {
      "cell_type": "code",
      "source": [
        "# Callbacks are extra func fo after and before training\n",
        "# tracking experiment with tensorboard callback\n",
        "# model checkpoint callback\n",
        "# early stopping callback"
      ],
      "metadata": {
        "id": "zYRyitC-Ks8K"
      },
      "execution_count": null,
      "outputs": []
    },
    {
      "cell_type": "code",
      "source": [
        "# Create TensorBoard callback ( new one for each model)\n",
        "import datetime\n",
        "\n",
        "def create_tensorboard_callback(dir_name,exp_name):\n",
        "  log_dir = dir_name + '/' + exp_name + '/' + datetime.datetime.now().strftime(\"%Y%m%d-%H%M%S\")\n",
        "  tensorboard_callback = tf.keras.callbacks.TensorBoard(log_dir)\n",
        "  print(f'Saving: {log_dir}')\n",
        "  return tensorboard_callback"
      ],
      "metadata": {
        "id": "-qemsPutKs-k"
      },
      "execution_count": null,
      "outputs": []
    },
    {
      "cell_type": "code",
      "source": [
        "# Creating models using tensorflow hub\n",
        "\"\"\" We can use layers of models from the hub, access pretrained models \"\"\"\n"
      ],
      "metadata": {
        "id": "JueNzXwOKtBL",
        "colab": {
          "base_uri": "https://localhost:8080/",
          "height": 35
        },
        "outputId": "15dacd1b-99c8-4a63-d34f-97a06ff8c7d7"
      },
      "execution_count": null,
      "outputs": [
        {
          "output_type": "execute_result",
          "data": {
            "text/plain": [
              "' We can use layers of models from the hub, access pretrained models '"
            ],
            "application/vnd.google.colaboratory.intrinsic+json": {
              "type": "string"
            }
          },
          "metadata": {},
          "execution_count": 7
        }
      ]
    },
    {
      "cell_type": "code",
      "source": [
        "# IMAGENET , RESNET, FEATURENET, EFFICIENT NET\n",
        "# PAPERS WITH CODE\n",
        "\n",
        "import tensorflow as tf\n",
        "import tensorflow_hub as hub\n",
        "from tensorflow.keras import layers\n",
        "\n",
        "# Resnet 50 V2 feature vector\n",
        "resnet_url = \"https://tfhub.dev/google/imagenet/resnet_v2_50/feature_vector/4\"\n",
        "\n",
        "# Original: EfficientNetB0 feature vector (version 1)\n",
        "efficientnet_url = \"https://tfhub.dev/tensorflow/efficientnet/b0/feature-vector/1\"\n",
        "\n",
        "# # New: EfficientNetB0 feature vector (version 2)\n",
        "# efficientnet_url = \"https://tfhub.dev/google/imagenet/efficientnet_v2_imagenet1k_b0/feature_vector/2\""
      ],
      "metadata": {
        "id": "7G2DFHFcKtDg"
      },
      "execution_count": null,
      "outputs": []
    },
    {
      "cell_type": "code",
      "source": [
        "def create_model(model_url,num_classes=10):\n",
        "  feature_extractor_layer = hub.KerasLayer(model_url,trainable=False,\n",
        "                                           name='feature_extraction_layer',\n",
        "                                           input_shape=(224,224)+(3,)) # freeze already learned patterns\n",
        "  model = tf.keras.Sequential([\n",
        "      feature_extractor_layer,\n",
        "      layers.Dense(num_classes,activation='softmax',name='output_layer')\n",
        "  ])\n",
        "  return model\n"
      ],
      "metadata": {
        "id": "AdGjwy8aKtF7"
      },
      "execution_count": null,
      "outputs": []
    },
    {
      "cell_type": "code",
      "source": [
        "resnet_model = create_model(resnet_url,train_data10.num_classes)"
      ],
      "metadata": {
        "id": "dHrOZ9DmKtIV"
      },
      "execution_count": null,
      "outputs": []
    },
    {
      "cell_type": "code",
      "source": [
        "resnet_model.summary()"
      ],
      "metadata": {
        "id": "dMWqCt0MKtLZ",
        "colab": {
          "base_uri": "https://localhost:8080/"
        },
        "outputId": "9f0454da-dcc1-4cc0-be72-06a77baee919"
      },
      "execution_count": null,
      "outputs": [
        {
          "output_type": "stream",
          "name": "stdout",
          "text": [
            "Model: \"sequential\"\n",
            "_________________________________________________________________\n",
            " Layer (type)                Output Shape              Param #   \n",
            "=================================================================\n",
            " feature_extraction_layer (  (None, 2048)              23564800  \n",
            " KerasLayer)                                                     \n",
            "                                                                 \n",
            " output_layer (Dense)        (None, 10)                20490     \n",
            "                                                                 \n",
            "=================================================================\n",
            "Total params: 23585290 (89.97 MB)\n",
            "Trainable params: 20490 (80.04 KB)\n",
            "Non-trainable params: 23564800 (89.89 MB)\n",
            "_________________________________________________________________\n"
          ]
        }
      ]
    },
    {
      "cell_type": "code",
      "source": [
        "resnet_model.compile(loss='categorical_crossentropy',\n",
        "                     optimizer=tf.keras.optimizers.Adam(),\n",
        "                     metrics=['accuracy'])\n",
        "\n",
        "resnet_history = resnet_model.fit(train_data10,\n",
        "                                  epochs=5,\n",
        "                                  steps_per_epoch=len(train_data10),\n",
        "                                  validation_data=test_data10,\n",
        "                                  validation_steps = len(test_data10),\n",
        "                                  callbacks=[create_tensorboard_callback(\"tensorflow_hub\",\"resnet50V2\")])"
      ],
      "metadata": {
        "id": "IcKlP9sTKtNj",
        "colab": {
          "base_uri": "https://localhost:8080/"
        },
        "outputId": "ef90573c-ecdd-4502-8e3e-4ac8e0eac227"
      },
      "execution_count": null,
      "outputs": [
        {
          "output_type": "stream",
          "name": "stdout",
          "text": [
            "Saving: tensorflow_hub/resnet50V2/20240430-050105\n",
            "Epoch 1/5\n",
            "24/24 [==============================] - 15s 472ms/step - loss: 1.9488 - accuracy: 0.3440 - val_loss: 1.2563 - val_accuracy: 0.5972\n",
            "Epoch 2/5\n",
            "24/24 [==============================] - 10s 440ms/step - loss: 0.9217 - accuracy: 0.7320 - val_loss: 0.8337 - val_accuracy: 0.7388\n",
            "Epoch 3/5\n",
            "24/24 [==============================] - 10s 449ms/step - loss: 0.6228 - accuracy: 0.8227 - val_loss: 0.7462 - val_accuracy: 0.7584\n",
            "Epoch 4/5\n",
            "24/24 [==============================] - 10s 415ms/step - loss: 0.4787 - accuracy: 0.8760 - val_loss: 0.7033 - val_accuracy: 0.7720\n",
            "Epoch 5/5\n",
            "24/24 [==============================] - 11s 458ms/step - loss: 0.3780 - accuracy: 0.9093 - val_loss: 0.6633 - val_accuracy: 0.7760\n"
          ]
        }
      ]
    },
    {
      "cell_type": "code",
      "source": [
        "# resnet50* feature extractor\n",
        "\n",
        "def plot_loss_curves(history):\n",
        "  loss = history.history['loss']\n",
        "  val_loss = history.history['val_loss']\n",
        "  accuracy = history.history['accuracy']\n",
        "  val_accuracy = history.history['val_accuracy']\n",
        "  epochs = range(len(history.history['loss']))\n",
        "\n",
        "  plt.plot(epochs,loss,label='train loss')\n",
        "  plt.plot(epochs,val_loss,label='val loss')\n",
        "  plt.title('loss curve')\n",
        "  plt.xlabel('epochs')\n",
        "  plt.legend()\n",
        "\n",
        "  plt.figure()\n",
        "  plt.plot(epochs,accuracy,label='train acc')\n",
        "  plt.plot(epochs,val_accuracy,label='val acc')\n",
        "  plt.title('accuracy curve')\n",
        "  plt.xlabel('epochs')\n",
        "  plt.legend()"
      ],
      "metadata": {
        "id": "S43ZsWtQKtQc"
      },
      "execution_count": null,
      "outputs": []
    },
    {
      "cell_type": "code",
      "source": [
        "import matplotlib.pyplot as plt\n",
        "plot_loss_curves(resnet_history)"
      ],
      "metadata": {
        "id": "GisZ3m7BKtS-",
        "colab": {
          "base_uri": "https://localhost:8080/",
          "height": 927
        },
        "outputId": "2d689143-dac9-443d-d202-8375ea0b809b"
      },
      "execution_count": null,
      "outputs": [
        {
          "output_type": "display_data",
          "data": {
            "text/plain": [
              "<Figure size 640x480 with 1 Axes>"
            ],
            "image/png": "[encoded data removed]"
          },
          "metadata": {}
        },
        {
          "output_type": "display_data",
          "data": {
            "text/plain": [
              "<Figure size 640x480 with 1 Axes>"
            ],
            "image/png": "[encoded data removed]"
          },
          "metadata": {}
        }
      ]
    },
    {
      "cell_type": "code",
      "source": [
        "efficientnet_model = create_model(efficientnet_url)"
      ],
      "metadata": {
        "id": "8G1ltQ7vKtYp"
      },
      "execution_count": null,
      "outputs": []
    },
    {
      "cell_type": "code",
      "source": [
        "efficientnet_model.compile(loss='categorical_crossentropy',\n",
        "                     optimizer=tf.keras.optimizers.Adam(),\n",
        "                     metrics=['accuracy'])\n",
        "\n",
        "efficientnet_history = efficientnet_model.fit(train_data10,\n",
        "                                  epochs=5,\n",
        "                                  steps_per_epoch=len(train_data10),\n",
        "                                  validation_data=test_data10,\n",
        "                                  validation_steps = len(test_data10),\n",
        "                                  callbacks=[create_tensorboard_callback(\"tensorflow_hub\",\"efficientnetb0\")])"
      ],
      "metadata": {
        "id": "nsbayg9SKtbU",
        "colab": {
          "base_uri": "https://localhost:8080/"
        },
        "outputId": "ca277337-1f89-4287-caa6-f71bb673f9a3"
      },
      "execution_count": null,
      "outputs": [
        {
          "output_type": "stream",
          "name": "stdout",
          "text": [
            "Saving: tensorflow_hub/efficientnetb0/20240430-044759\n",
            "Epoch 1/5\n",
            "24/24 [==============================] - 14s 469ms/step - loss: 0.4572 - accuracy: 0.8973 - val_loss: 0.5027 - val_accuracy: 0.8728\n",
            "Epoch 2/5\n",
            "24/24 [==============================] - 10s 421ms/step - loss: 0.3648 - accuracy: 0.9200 - val_loss: 0.4654 - val_accuracy: 0.8780\n",
            "Epoch 3/5\n",
            "24/24 [==============================] - 12s 535ms/step - loss: 0.3108 - accuracy: 0.9413 - val_loss: 0.4445 - val_accuracy: 0.8820\n",
            "Epoch 4/5\n",
            "24/24 [==============================] - 10s 429ms/step - loss: 0.2702 - accuracy: 0.9547 - val_loss: 0.4321 - val_accuracy: 0.8780\n",
            "Epoch 5/5\n",
            "24/24 [==============================] - 10s 449ms/step - loss: 0.2343 - accuracy: 0.9680 - val_loss: 0.4154 - val_accuracy: 0.8844\n"
          ]
        }
      ]
    },
    {
      "cell_type": "code",
      "source": [
        "plot_loss_curves(efficientnet_history)"
      ],
      "metadata": {
        "id": "LbjZgrSiKtdy",
        "colab": {
          "base_uri": "https://localhost:8080/",
          "height": 927
        },
        "outputId": "1a15e21a-55c2-486e-fc14-eeee49f5cc2e"
      },
      "execution_count": null,
      "outputs": [
        {
          "output_type": "display_data",
          "data": {
            "text/plain": [
              "<Figure size 640x480 with 1 Axes>"
            ],
            "image/png": "[encoded data removed]"
          },
          "metadata": {}
        },
        {
          "output_type": "display_data",
          "data": {
            "text/plain": [
              "<Figure size 640x480 with 1 Axes>"
            ],
            "image/png": "[encoded data removed]"
          },
          "metadata": {}
        }
      ]
    },
    {
      "cell_type": "code",
      "source": [
        "\"\"\"\n",
        "As is - use existing model with no changes ( image net on 1000 image net casses)\n",
        "Feature extraction - use prelearned patterns and adjust output layer ( 10 food classes)\n",
        "Fine tuning - prelearned patterns and fine tune underlying layers and output\n",
        "\n",
        "\"\"\""
      ],
      "metadata": {
        "id": "vYf83J6zKtml"
      },
      "execution_count": null,
      "outputs": []
    },
    {
      "cell_type": "code",
      "source": [
        "len(efficientnet_model.layers[0].weights) # no of layers"
      ],
      "metadata": {
        "id": "8MmwmwqMKto7",
        "colab": {
          "base_uri": "https://localhost:8080/"
        },
        "outputId": "97337bfa-0a54-45a9-e5c2-5d32c40953ec"
      },
      "execution_count": null,
      "outputs": [
        {
          "output_type": "execute_result",
          "data": {
            "text/plain": [
              "309"
            ]
          },
          "metadata": {},
          "execution_count": 20
        }
      ]
    },
    {
      "cell_type": "code",
      "source": [
        "# Tensorboard - experiments are public\n",
        "\n",
        "!tensorboard dev upload --logdir ./tensorflow_hub/ \\\n",
        "--name \"EfficientNetB0 vs ResNet50V2\" \\\n",
        "--description \"Comparing different TF hub feature extraction models\" \\\n",
        "--one_shot"
      ],
      "metadata": {
        "id": "LF-nG7LtKtrP",
        "colab": {
          "base_uri": "https://localhost:8080/"
        },
        "outputId": "7645e164-1d49-4ebe-d2d4-61777a7f7540"
      },
      "execution_count": null,
      "outputs": [
        {
          "output_type": "stream",
          "name": "stdout",
          "text": [
            "2024-04-30 05:06:27.287231: E external/local_xla/xla/stream_executor/cuda/cuda_dnn.cc:9261] Unable to register cuDNN factory: Attempting to register factory for plugin cuDNN when one has already been registered\n",
            "2024-04-30 05:06:27.287282: E external/local_xla/xla/stream_executor/cuda/cuda_fft.cc:607] Unable to register cuFFT factory: Attempting to register factory for plugin cuFFT when one has already been registered\n",
            "2024-04-30 05:06:27.288508: E external/local_xla/xla/stream_executor/cuda/cuda_blas.cc:1515] Unable to register cuBLAS factory: Attempting to register factory for plugin cuBLAS when one has already been registered\n",
            "2024-04-30 05:06:28.291975: W tensorflow/compiler/tf2tensorrt/utils/py_utils.cc:38] TF-TRT Warning: Could not find TensorRT\n",
            "****************************************************************\n",
            "****************************************************************\n",
            "****************************************************************\n",
            "\n",
            "Uploading TensorBoard logs to https://tensorboard.dev/ is no longer\n",
            "supported.\n",
            "\n",
            "TensorBoard.dev is shutting down.\n",
            "\n",
            "Please export your experiments by Dec 31, 2023.\n",
            "\n",
            "See the FAQ at https://tensorboard.dev.\n",
            "\n",
            "****************************************************************\n",
            "****************************************************************\n",
            "****************************************************************\n"
          ]
        }
      ]
    },
    {
      "cell_type": "code",
      "source": [
        "%load_ext tensorboard"
      ],
      "metadata": {
        "id": "sLFsk_8LKtti",
        "colab": {
          "base_uri": "https://localhost:8080/"
        },
        "outputId": "86da0368-026b-4097-920d-734b82ead171"
      },
      "execution_count": null,
      "outputs": [
        {
          "output_type": "stream",
          "name": "stdout",
          "text": [
            "The tensorboard extension is already loaded. To reload it, use:\n",
            "  %reload_ext tensorboard\n"
          ]
        }
      ]
    },
    {
      "cell_type": "markdown",
      "source": [],
      "metadata": {
        "id": "eZmFsGcAaGMO"
      }
    },
    {
      "cell_type": "code",
      "source": [
        "%tensorboard --logdir tensorflow_hub/"
      ],
      "metadata": {
        "id": "twIQzYjiKtv_",
        "colab": {
          "base_uri": "https://localhost:8080/",
          "height": 17
        },
        "outputId": "53796567-9006-47a3-c062-bdbec38b5311"
      },
      "execution_count": null,
      "outputs": [
        {
          "output_type": "display_data",
          "data": {
            "text/plain": [
              "<IPython.core.display.Javascript object>"
            ],
            "application/javascript": [
              "\n",
              "        (async () => {\n",
              "            const url = new URL(await google.colab.kernel.proxyPort(6007, {'cache': true}));\n",
              "            url.searchParams.set('tensorboardColab', 'true');\n",
              "            const iframe = document.createElement('iframe');\n",
              "            iframe.src = url;\n",
              "            iframe.setAttribute('width', '100%');\n",
              "            iframe.setAttribute('height', '800');\n",
              "            iframe.setAttribute('frameborder', 0);\n",
              "            document.body.appendChild(iframe);\n",
              "        })();\n",
              "    "
            ]
          },
          "metadata": {}
        }
      ]
    },
    {
      "cell_type": "code",
      "source": [
        "!tensorboard dev list"
      ],
      "metadata": {
        "id": "xoe3kxwSKtyc",
        "colab": {
          "base_uri": "https://localhost:8080/"
        },
        "outputId": "c093f876-d440-47ad-ab99-75ee9195d69c"
      },
      "execution_count": null,
      "outputs": [
        {
          "output_type": "stream",
          "name": "stdout",
          "text": [
            "2024-04-30 05:10:52.480777: E external/local_xla/xla/stream_executor/cuda/cuda_dnn.cc:9261] Unable to register cuDNN factory: Attempting to register factory for plugin cuDNN when one has already been registered\n",
            "2024-04-30 05:10:52.480851: E external/local_xla/xla/stream_executor/cuda/cuda_fft.cc:607] Unable to register cuFFT factory: Attempting to register factory for plugin cuFFT when one has already been registered\n",
            "2024-04-30 05:10:52.482510: E external/local_xla/xla/stream_executor/cuda/cuda_blas.cc:1515] Unable to register cuBLAS factory: Attempting to register factory for plugin cuBLAS when one has already been registered\n",
            "2024-04-30 05:10:53.926736: W tensorflow/compiler/tf2tensorrt/utils/py_utils.cc:38] TF-TRT Warning: Could not find TensorRT\n",
            "\n",
            "***** TensorBoard.dev Uploader *****\n",
            "\n",
            "This will list all experiments that you've uploaded to\n",
            "https://tensorboard.dev. TensorBoard.dev experiments are visible\n",
            "to everyone. Do not upload sensitive data.\n",
            "\n",
            "Your use of this service is subject to Google's Terms of Service\n",
            "<https://policies.google.com/terms> and Privacy Policy\n",
            "<https://policies.google.com/privacy>, and TensorBoard.dev's Terms of Service\n",
            "<https://tensorboard.dev/policy/terms/>.\n",
            "\n",
            "This notice will not be shown again while you are logged into the uploader.\n",
            "To log out, run `tensorboard dev auth revoke`.\n",
            "\n",
            "Continue? (yes/NO) yes\n",
            "\n",
            "Traceback (most recent call last):\n",
            "  File \"/usr/local/bin/tensorboard\", line 8, in <module>\n",
            "    sys.exit(run_main())\n",
            "  File \"/usr/local/lib/python3.10/dist-packages/tensorboard/main.py\", line 46, in run_main\n",
            "    app.run(tensorboard.main, flags_parser=tensorboard.configure)\n",
            "  File \"/usr/local/lib/python3.10/dist-packages/absl/app.py\", line 308, in run\n",
            "    _run_main(main, args)\n",
            "  File \"/usr/local/lib/python3.10/dist-packages/absl/app.py\", line 254, in _run_main\n",
            "    sys.exit(main(argv))\n",
            "  File \"/usr/local/lib/python3.10/dist-packages/tensorboard/program.py\", line 276, in main\n",
            "    return runner(self.flags) or 0\n",
            "  File \"/usr/local/lib/python3.10/dist-packages/tensorboard/uploader/uploader_subcommand.py\", line 611, in run\n",
            "    return _run(flags, self._experiment_url_callback)\n",
            "  File \"/usr/local/lib/python3.10/dist-packages/tensorboard/uploader/uploader_subcommand.py\", line 116, in _run\n",
            "    credentials = auth.authenticate_user(\n",
            "  File \"/usr/local/lib/python3.10/dist-packages/tensorboard/uploader/auth.py\", line 243, in authenticate_user\n",
            "    return flow.run()\n",
            "  File \"/usr/local/lib/python3.10/dist-packages/tensorboard/uploader/auth.py\", line 260, in run\n",
            "    device_response = self._send_device_auth_request()\n",
            "  File \"/usr/local/lib/python3.10/dist-packages/tensorboard/uploader/auth.py\", line 292, in _send_device_auth_request\n",
            "    raise RuntimeError(\n",
            "RuntimeError: There was an error while contacting Google's authorization server. Please try again later.\n"
          ]
        }
      ]
    },
    {
      "cell_type": "code",
      "source": [
        "# wandb weights and biases integrates with tensorflow"
      ],
      "metadata": {
        "id": "RSwyvj8aKt02"
      },
      "execution_count": null,
      "outputs": []
    },
    {
      "cell_type": "code",
      "source": [],
      "metadata": {
        "id": "T8OXPBq0Kt3L"
      },
      "execution_count": null,
      "outputs": []
    },
    {
      "cell_type": "code",
      "source": [],
      "metadata": {
        "id": "NRSnLgrzKt5T"
      },
      "execution_count": null,
      "outputs": []
    },
    {
      "cell_type": "code",
      "source": [],
      "metadata": {
        "id": "05PEY7uCKt7a"
      },
      "execution_count": null,
      "outputs": []
    },
    {
      "cell_type": "code",
      "source": [],
      "metadata": {
        "id": "9vfpFAAlKt90"
      },
      "execution_count": null,
      "outputs": []
    },
    {
      "cell_type": "code",
      "source": [],
      "metadata": {
        "id": "g_OVMMwXKt_t"
      },
      "execution_count": null,
      "outputs": []
    },
    {
      "cell_type": "code",
      "source": [],
      "metadata": {
        "id": "WUx8BhilKuB2"
      },
      "execution_count": null,
      "outputs": []
    },
    {
      "cell_type": "code",
      "source": [],
      "metadata": {
        "id": "YAX2JSfQKuEB"
      },
      "execution_count": null,
      "outputs": []
    }
  ]
}